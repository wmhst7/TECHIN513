{
 "cells": [
  {
   "cell_type": "markdown",
   "metadata": {},
   "source": [
    "# Lab 3 - DTFT, FFT, and Their Applications\n",
    "The goal of this lab is to visualize frequency domain analysis. We will next apply Discrete Fourier Transform (DFT) and Fast Fourier Transform (FFT) in three real-world applications, including feature extraction, image compression, and data denoising. "
   ]
  },
  {
   "cell_type": "code",
   "execution_count": 1,
   "metadata": {},
   "outputs": [],
   "source": [
    "import numpy as np\n",
    "import matplotlib.pyplot as plt\n",
    "from PIL import Image "
   ]
  },
  {
   "cell_type": "markdown",
   "metadata": {},
   "source": [
    "## Task 1: Decompose Square Wave into Harmonic Components"
   ]
  },
  {
   "cell_type": "code",
   "execution_count": 2,
   "metadata": {},
   "outputs": [
    {
     "ename": "SyntaxError",
     "evalue": "invalid syntax (670846142.py, line 16)",
     "output_type": "error",
     "traceback": [
      "\u001b[0;36m  Cell \u001b[0;32mIn[2], line 16\u001b[0;36m\u001b[0m\n\u001b[0;31m    square_wave =\u001b[0m\n\u001b[0m                  ^\u001b[0m\n\u001b[0;31mSyntaxError\u001b[0m\u001b[0;31m:\u001b[0m invalid syntax\n"
     ]
    }
   ],
   "source": [
    "def generate_square_wave(t_duration, freq, fs):\n",
    "    \"\"\"Generate a square wave with fundamental frequency freq of duration t_duration and sampling frequency fs\n",
    "\n",
    "    Args:\n",
    "        t_duration (float): Duration of square wave\n",
    "        freq (int): Fundamental frequency of square wave\n",
    "        fs (int): Sampling frequency\n",
    "\n",
    "    Returns:\n",
    "        square_wave (ndarray): Desired square wave (peak value: 1; peak-to-peak: 1)\n",
    "    \"\"\"\n",
    "    t = np.linspace(0, t_duration, int(fs * t_duration), endpoint=False) # generate time array\n",
    "    # your code below\n",
    "    # We can first generate a sine function sin(2\\pi*freq*t), and then apply sign function as sign(sin(2\\pi*freq*t))\n",
    "    \n",
    "    square_wave = \n",
    "    return square_wave"
   ]
  },
  {
   "cell_type": "code",
   "execution_count": null,
   "metadata": {},
   "outputs": [],
   "source": [
    "# Parameters for the square wave\n",
    "sampling_rate = 1000  # Samples per second\n",
    "duration = 1.0        # Duration of the signal in seconds\n",
    "fundamental_freq = 5  # Frequency of the square wave in Hz\n",
    "\n",
    "t, square_wave = generate_square_wave(duration, fundamental_freq, sampling_rate)\n",
    "\n",
    "# visualize the square wave\n",
    "plt.figure(figsize=(10, 4))\n",
    "plt.plot(t, square_wave)\n",
    "plt.title(\"Square Wave in Time Domain\")\n",
    "plt.xlabel(\"Time (second)\")\n",
    "plt.ylabel(\"Amplitude\")\n",
    "plt.grid()\n",
    "plt.show()\n"
   ]
  },
  {
   "cell_type": "code",
   "execution_count": null,
   "metadata": {},
   "outputs": [],
   "source": [
    "\n",
    "# Compute the DFT using numpy.fft.fft\n",
    "N = len(square_wave)  # Number of samples\n",
    "dft = np.fft.fft(square_wave)\n",
    "frequencies = np.fft.fftfreq(N, d=1/sampling_rate)  # Frequency axis\n",
    "\n",
    "# Compute magnitude and phase\n",
    "magnitude = np.abs(dft) / N  # Normalize by N\n",
    "phase = np.angle(dft)\n",
    "\n",
    "# Plot the magnitude spectrum\n",
    "plt.figure(figsize=(10, 4))\n",
    "plt.stem(frequencies[:N // 2], magnitude[:N // 2])  # Single-sided spectrum\n",
    "plt.title(\"Magnitude Spectrum\")\n",
    "plt.xlabel(\"Frequency [Hz]\")\n",
    "plt.ylabel(\"Magnitude\")\n",
    "plt.grid()\n",
    "plt.show()\n",
    "\n",
    "# Plot the phase spectrum\n",
    "plt.figure(figsize=(10, 4))\n",
    "plt.stem(frequencies[:N // 2], phase[:N // 2])  # Single-sided spectrum\n",
    "plt.title(\"Phase Spectrum\")\n",
    "plt.xlabel(\"Frequency [Hz]\")\n",
    "plt.ylabel(\"Phase [radians]\")\n",
    "plt.grid()\n",
    "plt.show()"
   ]
  },
  {
   "cell_type": "code",
   "execution_count": null,
   "metadata": {},
   "outputs": [],
   "source": [
    "\n",
    "def reconstruct_wave(harmonics, t, frequencies):\n",
    "    \"\"\"_summary_\n",
    "\n",
    "    Args:\n",
    "        harmonics (ndarray): Set of frequencies of harmonic components to use\n",
    "        t (ndarray): Time vector\n",
    "        frequencies (ndarray): Frequency components\n",
    "\n",
    "    Returns:\n",
    "        reconstruction: Reconstructed signal using harmonic components\n",
    "    \"\"\"\n",
    "    # initialize the recosntructed signal\n",
    "    reconstruction = np.zeros_like(t, dtype=complex)\n",
    "    \n",
    "    for harmonic in harmonics:\n",
    "        idx = np.argmin(np.abs(frequencies - harmonic))  # Find the index of the harmonic\n",
    "        # your code goes below\n",
    "\n",
    "    return reconstruction\n"
   ]
  },
  {
   "cell_type": "code",
   "execution_count": null,
   "metadata": {},
   "outputs": [],
   "source": [
    "\n",
    "# call the reconstruct_wave to reconstruct the square wave\n",
    "harmonics_to_use = np.array(list(range(-5, 5))) * fundamental_freq  \n",
    "reconstructed_wave = reconstruct_wave(harmonics_to_use, t, frequencies)\n",
    "\n",
    "# Plot the original and reconstructed square wave\n",
    "plt.figure(figsize=(10, 4))\n",
    "plt.plot(t, square_wave, label=\"Original Square Wave\")\n",
    "plt.plot(t, reconstructed_wave, label=\"Reconstructed Wave\", linestyle=\"--\")\n",
    "plt.title(\"Square Wave Reconstruction\")\n",
    "plt.xlabel(\"Time [s]\")\n",
    "plt.ylabel(\"Amplitude\")\n",
    "plt.legend()\n",
    "plt.grid()\n",
    "plt.show()"
   ]
  },
  {
   "cell_type": "markdown",
   "metadata": {},
   "source": [
    "## Task 2: Image Compression using FFT "
   ]
  },
  {
   "cell_type": "code",
   "execution_count": null,
   "metadata": {},
   "outputs": [],
   "source": [
    "# Load and display image\n",
    "img = Image.open(\"lion.jpg\").convert('L')\n",
    "img = np.array(img)\n",
    "_ = plt.figure(figsize=(5, 5))\n",
    "_ = plt.imshow(img, cmap ='gray', vmin=0, vmax=255)\n",
    "\n",
    "img_fft = np.fft.fft2(img)  # Perform FFT on the image\n",
    "img_fft_log = np.log(np.abs(np.fft.fftshift(img_fft)) + 1)  # Convert FFt to log scale\n",
    "# Visualize FFT\n",
    "plt.figure()\n",
    "_ = plt.imshow(256 - img_fft_log, cmap='gray')"
   ]
  },
  {
   "cell_type": "code",
   "execution_count": null,
   "metadata": {},
   "outputs": [],
   "source": [
    "def compress_img(img_fft, ratio):\n",
    "    \"\"\"Compress an image by keeping a specified percentage of FFT components\n",
    "\n",
    "    Args:\n",
    "        img_fft (ndarray): FFT of image\n",
    "        ratio (float): The ratio of FFT components to keep\n",
    "    \"\"\"\n",
    "    # your code goes below\n",
    "    img_fft_sort =  # Sort img_fft by magnitude\n",
    "    thresh =  # Compute threshold of magnitude\n",
    "    ind =   # Find indices of components that are larger than threshold\n",
    "    fft_keep =  # Zero out components with small magnitudes\n",
    "    compressed_img = np.abs(np.fft.ifft2(fft_keep))  # Use inverse FFt\n",
    "    _ = plt.imshow(256 - compressed_img, cmap='gray')  # Show reconstructed image\n",
    "    plt.title(f\"Compressed Image with {ratio * 100:.1f} Components Kept%\", fontsize=12)"
   ]
  },
  {
   "cell_type": "code",
   "execution_count": null,
   "metadata": {},
   "outputs": [],
   "source": [
    "# call compress_img with ratio = 0.99, 0.05, 0.01, 0.002"
   ]
  },
  {
   "cell_type": "markdown",
   "metadata": {},
   "source": [
    "## Task 3: Denoising a Signal using FFT"
   ]
  },
  {
   "cell_type": "code",
   "execution_count": null,
   "metadata": {},
   "outputs": [],
   "source": [
    "\n",
    "def generate_sine(duration, frequency, sample_rate):\n",
    "    \"\"\"Generates samples of a sine wave.\n",
    "\n",
    "    Samples are generated according to following equation:\n",
    "\n",
    "        y(t) = A sin(2*pi*f*t)\n",
    "\n",
    "    Args:\n",
    "        frequency: The frequency of the note.\n",
    "        duration: The length of the note in seconds.\n",
    "        amplitude: The amplitude of the note.\n",
    "        sample_rate: The sample rate.\n",
    "\n",
    "    Returns:\n",
    "        An array of samples.\n",
    "    \"\"\"\n",
    "    # Enter code here\n",
    "    num_samples = int(duration * sample_rate)\n",
    "    t = np.linspace(0, duration, num_samples)\n",
    "    sine_wave = np.sin(2*np.pi*frequency*t)\n",
    "    return sine_wave"
   ]
  },
  {
   "cell_type": "code",
   "execution_count": null,
   "metadata": {},
   "outputs": [],
   "source": [
    "# call generate_sine to generate function g and the noisy signal\n",
    "# your code here\n",
    "g = \n",
    "noise = \n",
    "noisy_signal = \n",
    "\n",
    "plt.figure(figsize=(10, 4))\n",
    "_ = plt.plot(range(len(noisy_signal)), noisy_signal, label=\"Noisy signal\", linestyle=\"--\")\n",
    "_ = plt.plot(range(len(g)), g, label=\"Original signal\")\n",
    "plt.xlabel(\"Index\")\n",
    "plt.ylabel(\"Signal\")\n",
    "plt.legend()\n",
    "plt.show()"
   ]
  },
  {
   "cell_type": "code",
   "execution_count": null,
   "metadata": {},
   "outputs": [],
   "source": [
    "\n",
    "def filter_with_psd(signal, sampling_rate, threshold_ratio):\n",
    "    \"\"\"\n",
    "    Filters a signal based on its Power Spectral Density (PSD)\n",
    "\n",
    "    Args:\n",
    "        signal (ndarray): The input time-domain signal.\n",
    "        sampling_rate (float): The sampling rate of the signal (Hz).\n",
    "        threshold_ratio (float): Fraction of the PSD to retain (e.g., 0.1 for top 10%).\n",
    "\n",
    "    Returns:\n",
    "        filtered_signal (ndarray): The filtered signal in the time domain.\n",
    "    \"\"\"\n",
    "    # your code goes below\n",
    "    # Compute the FFT of the signal\n",
    "\n",
    "    # Compute the Power Spectral Density (PSD)\n",
    "\n",
    "\n",
    "    # Sort the PSD to find the threshold\n",
    "\n",
    "\n",
    "    # Create a mask to retain frequencies with PSD above the threshold\n",
    "\n",
    "\n",
    "    # Apply the mask to the FFT signal\n",
    "\n",
    "\n",
    "    # Reconstruct the signal using the inverse FFT\n",
    "\n",
    "\n",
    "    # Compute the mean squared error between the original and filtered signals\n",
    "    error = np.mean((noisy_signal - filtered_signal) ** 2)\n",
    "    print(error)\n",
    "\n",
    "    # Plot original and filtered signals for comparison\n",
    "    plt.figure(figsize=(12, 6))\n",
    "\n",
    "    plt.subplot(2, 1, 1)\n",
    "    plt.plot(noisy_signal, label='Original Signal')\n",
    "    plt.title('Original Signal')\n",
    "    plt.xlabel('Time (samples)')\n",
    "    plt.ylabel('Amplitude')\n",
    "    plt.legend()\n",
    "\n",
    "    plt.subplot(2, 1, 2)\n",
    "    plt.plot(filtered_signal, label='Filtered Signal', color='orange')\n",
    "    plt.title('Filtered Signal')\n",
    "    plt.xlabel('Time (samples)')\n",
    "    plt.ylabel('Amplitude')\n",
    "    plt.legend()\n",
    "\n",
    "    plt.tight_layout()\n",
    "    plt.show()\n",
    "\n",
    "    return filtered_signal\n"
   ]
  },
  {
   "cell_type": "code",
   "execution_count": null,
   "metadata": {},
   "outputs": [],
   "source": [
    "# call filter_with_psd with different threshold ratio and compare the filtering effect"
   ]
  }
 ],
 "metadata": {
  "kernelspec": {
   "display_name": "base",
   "language": "python",
   "name": "python3"
  },
  "language_info": {
   "codemirror_mode": {
    "name": "ipython",
    "version": 3
   },
   "file_extension": ".py",
   "mimetype": "text/x-python",
   "name": "python",
   "nbconvert_exporter": "python",
   "pygments_lexer": "ipython3",
   "version": "3.11.4"
  }
 },
 "nbformat": 4,
 "nbformat_minor": 2
}
