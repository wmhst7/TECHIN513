{
 "cells": [
  {
   "cell_type": "markdown",
   "metadata": {},
   "source": [
    "\n",
    "## TECHIN513:  Lab 1 - Elementary Music Synthesis"
   ]
  },
  {
   "cell_type": "markdown",
   "metadata": {
    "pycharm": {
     "name": "#%% md\n"
    }
   },
   "source": [
    "**Team Members**: "
   ]
  },
  {
   "cell_type": "markdown",
   "metadata": {},
   "source": [
    "**Overview**\n",
    "\n",
    "The purpose of this lab is to familiarize you with constructing and processing discrete-time audio signals. You will review how to synthesize music notes and play them. You will concatenate a series of music notes into a small music piece, add volume variation to the music piece, overlap the adjacent notes to further make the music smoother and more realistic.\n",
    "\n",
    "Through this process, you will learn to perform the following sound synthesis tasks:\n",
    "- Generating musical notes\n",
    "- Improving the quality of the generated sound\n",
    "- Overlapping notes"
   ]
  },
  {
   "cell_type": "code",
   "execution_count": null,
   "metadata": {},
   "outputs": [],
   "source": [
    "import numpy as np\n",
    "import IPython.display as ipd\n",
    "# Usage:\n",
    "# ipd.Audio(audio_array, rate=sampling_rate, autoplay=True)\n",
    "import matplotlib.pyplot as plt\n",
    "from scipy.signal import hilbert\n",
    "from scipy.io import wavfile as wav"
   ]
  },
  {
   "cell_type": "code",
   "execution_count": 84,
   "metadata": {},
   "outputs": [],
   "source": [
    "# SimpleAudio constants.\n",
    "DEFAULT_SAMPLE_RATE = 8000\n",
    "DEFAULT_AMPLITUDE = 1\n",
    "DEFAULT_BYTES_PER_SAMPLE = 2\n",
    "DEFAULT_NUM_CHANNELS = 1\n",
    "\n",
    "# Musical note frequencies.\n",
    "A = 220.0\n",
    "B = A * 2 ** (2 / 12)\n",
    "C = A * 2 ** (3 / 12)\n",
    "E = A * 2 ** (7 / 12)"
   ]
  },
  {
   "cell_type": "code",
   "execution_count": null,
   "metadata": {},
   "outputs": [],
   "source": [
    "def play(data, num_channels=DEFAULT_NUM_CHANNELS, bytes_per_sample=DEFAULT_BYTES_PER_SAMPLE,\n",
    "         sample_rate=DEFAULT_SAMPLE_RATE):\n",
    "    \"\"\"Returns a playable audio object\n",
    "\n",
    "    Args:\n",
    "        data: The audio data to be played (as a NumPy array).\n",
    "        num_channels: The number of audio channels.\n",
    "        bytes_per_sample: The number of bytes per sample per channel.\n",
    "        sample_rate: The sample rate.\n",
    "    \"\"\"\n",
    "    # Enter code here\n",
    "    \n",
    "\n",
    "def display_envelope(signal, duration=-1, sample_rate=DEFAULT_SAMPLE_RATE, bytes_per_sample=DEFAULT_BYTES_PER_SAMPLE):\n",
    "\n",
    "    \"\"\"\n",
    "    Plots the envelope of a duration of the generated audio. \n",
    "\n",
    "    Args:\n",
    "        signal: The audio signal to be displayed (as a NumPy array).\n",
    "        duration: The length of hte signal to be displayed. -1 to display entire signal.\n",
    "        num_channels: The number of audio channels.\n",
    "        bytes_per_sample: The number of bytes per sample per channel.\n",
    "        sample_rate: The sample rate.\n",
    "    \"\"\"\n",
    "    \n",
    "    if duration < 0:\n",
    "        duration = len(signal)/sample_rate\n",
    "    \n",
    "    n = int(duration*sample_rate)\n",
    "    \n",
    "    analytic_signal = hilbert(signal[0:n])\n",
    "    amplitude_envelope = np.abs(analytic_signal)\n",
    "        \n",
    "    t = np.linspace(0,duration,len(amplitude_envelope))\n",
    "    \n",
    "    plt.figure()    \n",
    "    plt.plot(t,amplitude_envelope)\n",
    "    plt.show()"
   ]
  },
  {
   "cell_type": "markdown",
   "metadata": {},
   "source": [
    "## Task 1: Generating Musical Notes"
   ]
  },
  {
   "cell_type": "code",
   "execution_count": 86,
   "metadata": {},
   "outputs": [],
   "source": [
    "# defining note function \n",
    "def note(frequency, duration, amplitude=DEFAULT_AMPLITUDE, sample_rate=DEFAULT_SAMPLE_RATE):\n",
    "    \"\"\"Generates samples of a musical note.\n",
    "\n",
    "    Samples are generated according to following equation:\n",
    "\n",
    "        y(t) = A sin(wt)\n",
    "\n",
    "    Args:\n",
    "        frequency: The frequency of the note.\n",
    "        duration: The length of the note in seconds.\n",
    "        amplitude: The amplitude of the note.\n",
    "        sample_rate: The sample rate.\n",
    "\n",
    "    Returns:\n",
    "        An array of samples representing the note.\n",
    "    \"\"\"\n",
    "    # Enter code here"
   ]
  },
  {
   "cell_type": "code",
   "execution_count": 90,
   "metadata": {},
   "outputs": [],
   "source": [
    "# Use your function to generate the musical score for the Scarborough Fair.\n",
    "\n",
    "\n",
    "# Play the audio sample"
   ]
  },
  {
   "cell_type": "markdown",
   "metadata": {},
   "source": [
    "## Task 2: Time Scaling and Time Shifting Audio Signals"
   ]
  },
  {
   "cell_type": "code",
   "execution_count": null,
   "metadata": {},
   "outputs": [],
   "source": [
    "ipd.Audio('train32.wav')"
   ]
  },
  {
   "cell_type": "code",
   "execution_count": null,
   "metadata": {},
   "outputs": [],
   "source": [
    "fs1, w = wav.read('train32.wav')                      # Load audio file\n",
    "print('Sampling rate: ' + str(fs1) + 'Hz')                # Extract sampling frequency\n",
    "\n",
    "plt.figure()    \n",
    "_ = plt.plot(np.arange(np.size(w)), w)\n",
    "plt.xlabel(\"Time Index\")\n"
   ]
  },
  {
   "cell_type": "code",
   "execution_count": null,
   "metadata": {},
   "outputs": [],
   "source": [
    "# your code of task 2 goes below\n",
    "\n",
    "def time_scale(signal, a, fs):\n",
    "    \"\"\"\n",
    "    Perform time scaling on an audio waveform.\n",
    "\n",
    "    Args:\n",
    "        signal (numpy array): Input numpy array.\n",
    "        a (float): Time scaling factor.\n",
    "        fs (int): Sampling frequency (used to handle time shift in seconds if needed).\n",
    "    \n",
    "    Returns:\n",
    "        numpy array: Transformed waveform.\n",
    "    \"\"\"\n",
    "    n = np.arange(len(signal))  # Original time indices\n",
    "    \n",
    "    if a > 1: # signal compression\n",
    "        # your code here\n",
    "    elif a < 1 and a > 0: # signal expansion\n",
    "        # your code here\n",
    "    elif a == 1:\n",
    "        transformed_signal = signal\n",
    "    else:\n",
    "        print(\"Invalid choice of a\")\n",
    "\n",
    "    return transformed_signal\n"
   ]
  },
  {
   "cell_type": "code",
   "execution_count": null,
   "metadata": {},
   "outputs": [],
   "source": [
    "# your code goes here"
   ]
  },
  {
   "cell_type": "code",
   "execution_count": null,
   "metadata": {},
   "outputs": [],
   "source": [
    "\n",
    "def time_shift(signal, b):\n",
    "    \"\"\"\n",
    "    Perform time shifting on a signal.\n",
    "\n",
    "    Args:\n",
    "        signal (numpy array): Input numpy array.\n",
    "        b (int): Time shifting factor.\n",
    "        fs (int): Sampling frequency (used to handle time shift in seconds if needed).\n",
    "    \n",
    "    Returns:\n",
    "        numpy array: Transformed waveform.\n",
    "    \"\"\"\n",
    "\n",
    "    # Check if `b` is a valid integer\n",
    "    if not isinstance(b, int):\n",
    "        raise ValueError(\"Invalid choice of b.\")\n",
    "    \n",
    "    # Perform time shifting\n",
    "    transformed_signal = np.roll(signal, b)\n",
    "    \n",
    "    # Handle zero-padding for positive or negative shifts\n",
    "    if b > 0:\n",
    "        transformed_signal[:b] = 0  # Zero-pad the beginning\n",
    "    elif b < 0:\n",
    "        transformed_signal[b:] = 0  # Zero-pad the end\n",
    "\n",
    "    return transformed_signal"
   ]
  },
  {
   "cell_type": "code",
   "execution_count": null,
   "metadata": {},
   "outputs": [],
   "source": [
    "# your code goes here"
   ]
  },
  {
   "cell_type": "markdown",
   "metadata": {},
   "source": [
    "## Task 3: Volume Variations"
   ]
  },
  {
   "cell_type": "code",
   "execution_count": 6,
   "metadata": {},
   "outputs": [],
   "source": [
    "# Volume Variation Function Attack, Decay, Sustain and Release (ADSR)\n",
    "def adsr(note):\n",
    "    \"\"\"Generates an ADSR envelope and applies it to a note.\n",
    "\n",
    "        A: Linear increase to 60% amplitude over 20% length.\n",
    "        D: Linear decrease to 50% amplitude over 4% length.\n",
    "        S: Constant 50% amplitude over 40% length.\n",
    "        R: Linear decrease to 0% amplitude over 36% length.\n",
    "\n",
    "    Args:\n",
    "        note: The note to be modified.\n",
    "\n",
    "    Returns:\n",
    "        A note that has been scaled by the ADSR envelope.\n",
    "    \"\"\"\n",
    "    # Enter code here"
   ]
  },
  {
   "cell_type": "code",
   "execution_count": 7,
   "metadata": {},
   "outputs": [],
   "source": [
    "# Use your function Apply an ADSR envelope to each note.\n",
    "\n",
    "\n",
    "# Play the audio sample\n",
    "\n",
    "\n",
    "# Display the envelope"
   ]
  },
  {
   "cell_type": "markdown",
   "metadata": {
    "pycharm": {
     "name": "#%% md\n"
    }
   },
   "source": [
    "**Supplementary Questions:** Instead of enveloping with the ADSR function, how would you envelope with a decaying exponential?"
   ]
  },
  {
   "cell_type": "markdown",
   "metadata": {},
   "source": [
    "## Task 4: Overlapping Notes"
   ]
  },
  {
   "cell_type": "code",
   "execution_count": 8,
   "metadata": {},
   "outputs": [],
   "source": [
    "def overlap(notes, offset):\n",
    "    \"\"\"Joins notes together with overlap between consecutive notes.\n",
    "\n",
    "    Args:\n",
    "        notes: An array of notes to be joined.\n",
    "        offset: The amount of allowable overlap between consecutive notes.\n",
    "\n",
    "    Returns:\n",
    "        A score made from the input notes.\n",
    "    \"\"\"\n",
    "    # Enter code here"
   ]
  },
  {
   "cell_type": "code",
   "execution_count": 18,
   "metadata": {},
   "outputs": [],
   "source": [
    "# Smooth the sound by overlapping the notes.\n",
    "\n",
    "\n",
    "# Play the audio sample\n",
    "\n",
    "\n",
    "# Display the envelope"
   ]
  }
 ],
 "metadata": {
  "kernelspec": {
   "display_name": "Python 3 (ipykernel)",
   "language": "python",
   "name": "python3"
  },
  "language_info": {
   "codemirror_mode": {
    "name": "ipython",
    "version": 3
   },
   "file_extension": ".py",
   "mimetype": "text/x-python",
   "name": "python",
   "nbconvert_exporter": "python",
   "pygments_lexer": "ipython3",
   "version": "3.10.6"
  },
  "varInspector": {
   "cols": {
    "lenName": 16,
    "lenType": 16,
    "lenVar": 40
   },
   "kernels_config": {
    "python": {
     "delete_cmd_postfix": "",
     "delete_cmd_prefix": "del ",
     "library": "var_list.py",
     "varRefreshCmd": "print(var_dic_list())"
    },
    "r": {
     "delete_cmd_postfix": ") ",
     "delete_cmd_prefix": "rm(",
     "library": "var_list.r",
     "varRefreshCmd": "cat(var_dic_list()) "
    }
   },
   "position": {
    "height": "394.4px",
    "left": "885px",
    "right": "20px",
    "top": "120px",
    "width": "361.4px"
   },
   "types_to_exclude": [
    "module",
    "function",
    "builtin_function_or_method",
    "instance",
    "_Feature"
   ],
   "window_display": false
  }
 },
 "nbformat": 4,
 "nbformat_minor": 2
}
